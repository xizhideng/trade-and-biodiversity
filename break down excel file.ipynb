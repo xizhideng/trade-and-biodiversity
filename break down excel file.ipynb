{
 "cells": [
  {
   "cell_type": "code",
   "execution_count": 1,
   "id": "6f585401",
   "metadata": {},
   "outputs": [
    {
     "name": "stdout",
     "output_type": "stream",
     "text": [
      "Saved Trade_EORA_all_sectors_Agriculture.xlsx\n",
      "Saved Trade_EORA_all_sectors_Fishing.xlsx\n",
      "Saved Trade_EORA_all_sectors_Mining and Quarrying.xlsx\n",
      "Saved Trade_EORA_all_sectors_Food & Beverages.xlsx\n",
      "Saved Trade_EORA_all_sectors_Textiles and Wearing Apparel.xlsx\n",
      "Saved Trade_EORA_all_sectors_Wood and Paper.xlsx\n",
      "Saved Trade_EORA_all_sectors_Petroleum, Chemical and Non-Met.xlsx\n",
      "Saved Trade_EORA_all_sectors_Metal Products.xlsx\n",
      "Saved Trade_EORA_all_sectors_Electrical and Machinery.xlsx\n",
      "Saved Trade_EORA_all_sectors_Transport Equipment.xlsx\n",
      "Saved Trade_EORA_all_sectors_Other Manufacturing.xlsx\n",
      "Saved Trade_EORA_all_sectors_Recycling.xlsx\n",
      "Saved Trade_EORA_all_sectors_Electricity, Gas and Water.xlsx\n",
      "Saved Trade_EORA_all_sectors_Construction.xlsx\n",
      "Saved Trade_EORA_all_sectors_Maintenance and Repair.xlsx\n",
      "Saved Trade_EORA_all_sectors_Wholesale Trade.xlsx\n",
      "Saved Trade_EORA_all_sectors_Retail Trade.xlsx\n",
      "Saved Trade_EORA_all_sectors_Hotels and Restraurants.xlsx\n",
      "Saved Trade_EORA_all_sectors_Transport.xlsx\n",
      "Saved Trade_EORA_all_sectors_Post and Telecommunications.xlsx\n",
      "Saved Trade_EORA_all_sectors_Finacial Intermediation and Bus.xlsx\n",
      "Saved Trade_EORA_all_sectors_Public Administration.xlsx\n",
      "Saved Trade_EORA_all_sectors_Education, Health and Other Ser.xlsx\n",
      "Saved Trade_EORA_all_sectors_Private Households.xlsx\n",
      "Saved Trade_EORA_all_sectors_Others.xlsx\n",
      "Saved Trade_EORA_all_sectors_Re-export & Re-import.xlsx\n"
     ]
    }
   ],
   "source": [
    "import pandas as pd\n",
    "\n",
    "# Load the Excel file\n",
    "file_path = 'Trade_EORA_all_sectors.xlsx'\n",
    "excel_file = pd.ExcelFile(file_path)\n",
    "\n",
    "# Iterate through each sheet in the Excel file\n",
    "for sheet_name in excel_file.sheet_names:\n",
    "    # Load the sheet into a DataFrame\n",
    "    df = pd.read_excel(file_path, sheet_name=sheet_name)\n",
    "    \n",
    "    # Create a file name for the sheet\n",
    "    output_file_name ='Trade_EORA_all_sectors_'+f'{sheet_name}.xlsx'\n",
    "    \n",
    "    # Save the DataFrame to a new Excel file\n",
    "    df.to_excel(output_file_name, index=False)\n",
    "    \n",
    "    print(f'Saved {output_file_name}')"
   ]
  },
  {
   "cell_type": "code",
   "execution_count": null,
   "id": "a942d843",
   "metadata": {},
   "outputs": [],
   "source": []
  }
 ],
 "metadata": {
  "kernelspec": {
   "display_name": "Python 3 (ipykernel)",
   "language": "python",
   "name": "python3"
  },
  "language_info": {
   "codemirror_mode": {
    "name": "ipython",
    "version": 3
   },
   "file_extension": ".py",
   "mimetype": "text/x-python",
   "name": "python",
   "nbconvert_exporter": "python",
   "pygments_lexer": "ipython3",
   "version": "3.11.4"
  }
 },
 "nbformat": 4,
 "nbformat_minor": 5
}
